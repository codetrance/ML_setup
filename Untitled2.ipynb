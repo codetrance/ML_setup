{
 "cells": [
  {
   "cell_type": "code",
   "execution_count": null,
   "metadata": {},
   "outputs": [],
   "source": [
    "Changes with TensorFlow\n",
    "Section 26, Lecture 134\n",
    "Hi everyone,\n",
    "\n",
    "TensorFlow changes very quickly with updates sometimes causing deprecated code for older versions. At this time of writing, the most recent release of TF is 1.5. In order to have your code work with 1.0\n",
    "\n",
    "Another change is that TF can now be downloaded directly for Windows (at least for CPU use, there are some caveats for GPU on Windows with TF). You can get the easier installation directions here:\n",
    "\n",
    "https://www.tensorflow.org/install/\n",
    "\n",
    "For the mnist section, here is the updated code:\n",
    "\n",
    "from tensorflow.examples.tutorials.mnist import input_data\n",
    "mnist = input_data.read_data_sets(\"MNIST_data/\", one_hot=True)\n",
    " \n",
    "import tensorflow as tf\n",
    "x = tf.placeholder(tf.float32, [None, 784])\n",
    " \n",
    "W = tf.Variable(tf.zeros([784, 10]))\n",
    "b = tf.Variable(tf.zeros([10]))\n",
    " \n",
    "y = tf.nn.softmax(tf.matmul(x, W) + b)\n",
    " \n",
    "y_ = tf.placeholder(tf.float32, [None, 10])\n",
    " \n",
    "cross_entropy = tf.reduce_mean(-tf.reduce_sum(y_ * tf.log(y), reduction_indices=[1]))\n",
    " \n",
    "train_step = tf.train.GradientDescentOptimizer(0.5).minimize(cross_entropy)\n",
    " \n",
    "sess = tf.InteractiveSession()\n",
    " \n",
    "tf.global_variables_initializer().run()\n",
    " \n",
    "for _ in range(1000):\n",
    "  batch_xs, batch_ys = mnist.train.next_batch(100)\n",
    "  sess.run(train_step, feed_dict={x: batch_xs, y_: batch_ys})\n",
    " \n",
    "correct_prediction = tf.equal(tf.argmax(y,1), tf.argmax(y_,1))\n",
    " \n",
    "accuracy = tf.reduce_mean(tf.cast(correct_prediction, tf.float32))\n",
    " \n",
    "print(sess.run(accuracy, feed_dict={x: mnist.test.images, y_: mnist.test.labels}))\n",
    "\n",
    "\n",
    "\n",
    "\n",
    "As far as the updated code, here is the most recent working code for the contrib.learn section that uses the iris dataset: (The main difference between this and the video is the addition of the feature_columns argument).\n",
    "\n",
    "#Imports\n",
    "import tensorflow as tf\n",
    "import numpy as np\n",
    "from sklearn.datasets import load_iris\n",
    "from sklearn.cross_validation import train_test_split\n",
    "from sklearn.metrics import classification_report, confusion_matrix\n",
    " \n",
    "# Data sets\n",
    "iris = load_iris()\n",
    "X =np.float32(iris['data']) \n",
    "y = iris['target']\n",
    "X_train, X_test, y_train, y_test = train_test_split(X,y,test_size=0.3)\n",
    " \n",
    "# Specify that all features have real-value data\n",
    "feature_columns = [tf.contrib.layers.real_valued_column(\"\", dimension=4)]\n",
    " \n",
    "# Build 3 layer DNN with 10, 20, 10 units respectively.\n",
    "classifier = tf.contrib.learn.DNNClassifier(feature_columns=feature_columns,\n",
    "                                            hidden_units=[10, 20, 10],\n",
    "                                            n_classes=3,\n",
    "                                            model_dir=\"./output\")\n",
    " \n",
    "# Fit model.\n",
    "classifier.fit(X_train, y_train, steps=2000)\n",
    " \n",
    "# Evaluate accuracy.\n",
    "accuracy_score = classifier.evaluate(X_test, y_test)[\"accuracy\"]\n",
    "print('Accuracy: {0:f}'.format(accuracy_score))\n",
    " \n",
    "#Evaluate with classification report and confusion matrix\n",
    "iris_predictions = list(classifier.predict(X_test))\n",
    "print(classification_report(y_test,  iris_predictions))\n",
    "print('\\n')\n",
    "print(confusion_matrix(y_test,  iris_predictions))\n",
    "print('\\n')"
   ]
  },
  {
   "cell_type": "code",
   "execution_count": 1,
   "metadata": {},
   "outputs": [
    {
     "ename": "ImportError",
     "evalue": "No module named tensorflow",
     "output_type": "error",
     "traceback": [
      "\u001b[0;31m---------------------------------------------------------------------------\u001b[0m",
      "\u001b[0;31mImportError\u001b[0m                               Traceback (most recent call last)",
      "\u001b[0;32m<ipython-input-1-41389fad42b5>\u001b[0m in \u001b[0;36m<module>\u001b[0;34m()\u001b[0m\n\u001b[0;32m----> 1\u001b[0;31m \u001b[0;32mimport\u001b[0m \u001b[0mtensorflow\u001b[0m \u001b[0;32mas\u001b[0m \u001b[0mtf\u001b[0m\u001b[0;34m\u001b[0m\u001b[0m\n\u001b[0m",
      "\u001b[0;31mImportError\u001b[0m: No module named tensorflow"
     ]
    }
   ],
   "source": [
    "import tensorflow as tf"
   ]
  },
  {
   "cell_type": "code",
   "execution_count": null,
   "metadata": {},
   "outputs": [],
   "source": []
  }
 ],
 "metadata": {
  "kernelspec": {
   "display_name": "Python 2",
   "language": "python",
   "name": "python2"
  },
  "language_info": {
   "codemirror_mode": {
    "name": "ipython",
    "version": 2
   },
   "file_extension": ".py",
   "mimetype": "text/x-python",
   "name": "python",
   "nbconvert_exporter": "python",
   "pygments_lexer": "ipython2",
   "version": "2.7.14"
  }
 },
 "nbformat": 4,
 "nbformat_minor": 2
}
